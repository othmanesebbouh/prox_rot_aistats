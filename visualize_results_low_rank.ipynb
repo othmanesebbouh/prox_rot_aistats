{
 "cells": [
  {
   "cell_type": "code",
   "execution_count": 1,
   "metadata": {},
   "outputs": [],
   "source": [
    "%load_ext autoreload\n",
    "%autoreload 2"
   ]
  },
  {
   "cell_type": "code",
   "execution_count": 2,
   "metadata": {},
   "outputs": [],
   "source": [
    "import numpy as np\n",
    "import matplotlib.pyplot as plt\n",
    "import json\n",
    "import itertools"
   ]
  },
  {
   "cell_type": "code",
   "execution_count": 10,
   "metadata": {},
   "outputs": [],
   "source": [
    "path_exp = \"pre_computed_runs/moscot/moscot_sinkhorn_run/\"\n",
    "path_sinkhorn = path_exp + \"scores_sinkhorn2023-10-10 01:47:32.json\"\n",
    "with open(path_sinkhorn) as f:\n",
    "    scores_sinkhorn = json.load(f)\n",
    "    \n",
    "path_sinkhorn2 = path_exp + \"scores_sinkhorn2023-10-10 10:31:11.json\"\n",
    "with open(path_sinkhorn2) as f:\n",
    "    scores_sinkhorn2 = json.load(f)\n",
    "    \n",
    "path_sinkhorn3 = path_exp + \"scores_sinkhorn2023-10-10 11:01:31.json\"\n",
    "with open(path_sinkhorn3) as f:\n",
    "    scores_sinkhorn3 = json.load(f)\n",
    "    \n",
    "scores_sinkhorn.update(scores_sinkhorn2)\n",
    "scores_sinkhorn.update(scores_sinkhorn3)"
   ]
  },
  {
   "cell_type": "code",
   "execution_count": 4,
   "metadata": {},
   "outputs": [],
   "source": [
    "subset_sizes = [\"25\", \"50\", \"100\", \"250\", \"500\", \"1000\"]#, \"6224\"]\n",
    "epsilons = ['0.005', '0.0005', '0.0001', '5e-05']\n",
    "seeds = [\"0\", \"1\", \"2\", \"3\", \"4\"]\n",
    "stds_sinkhorn = {}\n",
    "best_scores_sinkhorn = {}\n",
    "for subset_size in subset_sizes:\n",
    "    best_scores_sinkhorn[subset_size] = {}\n",
    "    for seed in seeds:\n",
    "        best_scores_sinkhorn[subset_size][seed] = np.min(np.array([scores_sinkhorn[subset_size][seed][eps][0]\n",
    "                                                              for eps in epsilons]))\n",
    "\n",
    "best_score_large_sinkhorn = np.min(np.array([scores_sinkhorn[\"6224\"][\"0\"][eps] for eps in epsilons]))\n",
    "\n",
    "av_best_scores_sinkhorn = []\n",
    "for subset in subset_sizes:\n",
    "    av_best_scores_sinkhorn.append(np.array([best_scores_sinkhorn[subset][seed] for seed in seeds]).mean())\n",
    "av_best_scores_sinkhorn.append(best_score_large_sinkhorn)"
   ]
  },
  {
   "cell_type": "code",
   "execution_count": 5,
   "metadata": {},
   "outputs": [],
   "source": [
    "path_exp = \"pre_computed_runs/moscot/moscot_lr_run/\"\n",
    "\n",
    "path_lr = path_exp + \"scores_lr2023-10-09 22:53:32.json\"\n",
    "with open(path_lr) as f:\n",
    "    scores_lr = json.load(f)\n",
    "    \n",
    "path_lr2 = path_exp + \"scores_lr2023-10-10 11:02:46.json\"\n",
    "with open(path_lr2) as f:\n",
    "    scores_lr2 = json.load(f)\n",
    "    \n",
    "scores_lr.update(scores_lr2)"
   ]
  },
  {
   "cell_type": "code",
   "execution_count": 6,
   "metadata": {},
   "outputs": [],
   "source": [
    "subset_sizes = [\"25\", \"50\", \"100\", \"250\", \"500\", \"1000\"]#, \"6224\"]\n",
    "epsilons = ['0.005','0.001', '0.0005', '0.0001', '5e-05']\n",
    "seeds = [\"0\", \"1\", \"2\", \"3\", \"4\"]\n",
    "ranks = [\"6\", \"7\", \"11\"]\n",
    "best_scores_lr = {}\n",
    "for subset_size in subset_sizes:\n",
    "    best_scores_lr[subset_size] = {}\n",
    "    for seed in seeds:\n",
    "        best_scores_lr[subset_size][seed] = {}\n",
    "        for rank in ranks:\n",
    "            best_scores_lr[subset_size][seed][rank] = np.min(np.array([scores_lr[subset_size][seed][rank][eps][0]\n",
    "                                                              for eps in epsilons]))\n",
    "        best_scores_lr[subset_size][seed] = np.min(np.array([best_scores_lr[subset_size][seed][rank]\n",
    "                                                              for rank in ranks]))\n",
    "\n",
    "best_scores_large_lr = {}\n",
    "for rank in ranks:\n",
    "    best_scores_large_lr[rank] = np.min(np.array([scores_lr[\"6224\"][\"0\"][rank][eps][0]\n",
    "                                                              for eps in epsilons]))\n",
    "best_scores_large_lr = np.min(np.array([best_scores_large_lr[rank]\n",
    "                                                      for rank in ranks]))\n",
    "\n",
    "av_best_scores_lr = []\n",
    "for subset in subset_sizes:\n",
    "    av_best_scores_lr.append(np.array([best_scores_lr[subset][seed] for seed in seeds]).mean())\n",
    "av_best_scores_lr.append(best_scores_large_lr)\n",
    "av_best_scores_lr = np.array(av_best_scores_lr)"
   ]
  },
  {
   "cell_type": "markdown",
   "metadata": {},
   "source": [
    "# Test loss"
   ]
  },
  {
   "cell_type": "code",
   "execution_count": 7,
   "metadata": {},
   "outputs": [],
   "source": [
    "subset_sizes = [\"25\", \"50\", \"100\", \"250\", \"500\", \"1000\"]\n",
    "epsilons = ['0.005', '0.0005', '0.0001', '5e-05']\n",
    "seeds = [\"0\", \"1\", \"2\", \"3\", \"4\"]\n",
    "best_scores_sinkhorn = {}\n",
    "for subset_size in subset_sizes:\n",
    "    best_scores_sinkhorn[subset_size] = {}\n",
    "    for seed in seeds:\n",
    "        best_scores_sinkhorn[subset_size][seed] = np.min(np.array([scores_sinkhorn[subset_size][seed][eps][1]\n",
    "                                                              for eps in epsilons]))\n",
    "\n",
    "best_score_large_sinkhorn_test = np.min(np.array([scores_sinkhorn[\"6224\"][\"0\"][eps] for eps in epsilons]))\n",
    "\n",
    "av_best_scores_sinkhorn_test = []\n",
    "for subset in subset_sizes:\n",
    "    av_best_scores_sinkhorn_test.append(np.array([best_scores_sinkhorn[subset][seed] for seed in seeds]).mean())\n",
    "av_best_scores_sinkhorn_test.append(best_score_large_sinkhorn_test)"
   ]
  },
  {
   "cell_type": "code",
   "execution_count": 8,
   "metadata": {},
   "outputs": [],
   "source": [
    "subset_sizes = [\"25\", \"50\", \"100\", \"250\", \"500\", \"1000\"]\n",
    "epsilons = ['0.005','0.001', '0.0005', '0.0001', '5e-05']\n",
    "seeds = [\"0\", \"1\", \"2\", \"3\", \"4\"]\n",
    "ranks = [\"6\", \"7\", \"11\"]\n",
    "best_scores_lr = {}\n",
    "for subset_size in subset_sizes:\n",
    "    best_scores_lr[subset_size] = {}\n",
    "    for seed in seeds:\n",
    "        best_scores_lr[subset_size][seed] = {}\n",
    "        for rank in ranks:\n",
    "            best_scores_lr[subset_size][seed][rank] = np.min(np.array([scores_lr[subset_size][seed][rank][eps][1]\n",
    "                                                              for eps in epsilons]))\n",
    "        best_scores_lr[subset_size][seed] = np.min(np.array([best_scores_lr[subset_size][seed][rank]\n",
    "                                                              for rank in ranks]))\n",
    "\n",
    "best_scores_large_lr_test = {}\n",
    "for rank in ranks:\n",
    "    best_scores_large_lr_test[rank] = np.min(np.array([scores_lr[\"6224\"][\"0\"][rank][eps][0]\n",
    "                                                              for eps in epsilons]))\n",
    "best_scores_large_lr_test = np.min(np.array([best_scores_large_lr_test[rank]\n",
    "                                                      for rank in ranks]))\n",
    "\n",
    "av_best_scores_lr_test = []\n",
    "for subset in subset_sizes:\n",
    "    av_best_scores_lr_test.append(np.array([best_scores_lr[subset][seed] for seed in seeds]).mean())\n",
    "av_best_scores_lr_test.append(best_scores_large_lr_test)"
   ]
  },
  {
   "cell_type": "code",
   "execution_count": 9,
   "metadata": {},
   "outputs": [
    {
     "name": "stderr",
     "output_type": "stream",
     "text": [
      "<ipython-input-9-9f2f40574c60>:5: MatplotlibDeprecationWarning: The seaborn styles shipped by Matplotlib are deprecated since 3.6, as they no longer correspond to the styles shipped by seaborn. However, they will remain available as 'seaborn-v0_8-<style>'. Alternatively, directly use the seaborn API instead.\n",
      "  plt.style.use('seaborn-colorblind')\n",
      "<ipython-input-9-9f2f40574c60>:14: MatplotlibDeprecationWarning: Auto-removal of overlapping axes is deprecated since 3.6 and will be removed two minor releases later; explicitly call ax.remove() as needed.\n",
      "  ax1 = plt.subplot(2, 2, 1)\n"
     ]
    },
    {
     "data": {
      "image/png": "[encoded data removed]",
      "text/plain": [
       "<Figure size 648x432 with 2 Axes>"
      ]
     },
     "metadata": {
      "needs_background": "light"
     },
     "output_type": "display_data"
    }
   ],
   "source": [
    "plt.style.use('ggplot')\n",
    "rc = {\"pdf.fonttype\": 42, 'text.usetex': True,\n",
    "      \"axes.facecolor\": 'w', \"grid.color\": 'D3D3D3'}\n",
    "plt.rcParams.update(rc)\n",
    "plt.style.use('seaborn-colorblind')\n",
    "\n",
    "\n",
    "fig, ax = plt.subplots(figsize=(9, 6), sharex=True)\n",
    "\n",
    "width = 4\n",
    "label_fontsize_x = 16\n",
    "label_fontsize_y1 = 15\n",
    "label_fontsize_y2 = 13\n",
    "ax1 = plt.subplot(2, 2, 1)\n",
    "ax1.semilogx([25, 50, 100, 250, 500, 1000, 6224], av_best_scores_sinkhorn, linewidth=width)\n",
    "ax1.semilogx([25, 50, 100, 250, 500, 1000, 6224], av_best_scores_lr, linewidth=width)\n",
    "ax1.set_ylabel(r\"$\\textbf{FOSCTTM on subset}$\", fontsize=label_fontsize_y1)\n",
    "ax1.set_xlabel(r\"$\\textbf{Training subset size}$\", fontsize=label_fontsize_x)\n",
    "ax1.xaxis.labelpad = -.25\n",
    "\n",
    "ax2 = plt.subplot(2, 2, 2)\n",
    "ax2.semilogx([25, 50, 100, 250, 500, 1000, 6224], av_best_scores_sinkhorn_test, linewidth=width)\n",
    "ax2.semilogx([25, 50, 100, 250, 500, 1000, 6224], av_best_scores_lr_test, linewidth=width)\n",
    "ax2.tick_params(left = False, labelleft = False, top=False, labeltop=False)\n",
    "ax2.set_ylabel(r\"$\\textbf{FOSCTTM on full dataset}$\", fontsize=label_fontsize_y2)\n",
    "\n",
    "\n",
    "ax2.set_xlim(ax1.get_xlim())\n",
    "ax2.set_ylim(ax1.get_ylim())\n",
    "ax2.set_xlabel(r\"\\textbf{Training subset size}\", fontsize=label_fontsize_x)\n",
    "ax2.xaxis.labelpad = -.25\n",
    "\n",
    "plt.setp(ax1.spines.values(), linewidth=1, color='black')\n",
    "plt.setp(ax2.spines.values(), linewidth=1, color='black')\n",
    "\n",
    "fig.subplots_adjust(wspace=0.1, hspace=0.1)\n",
    "\n",
    "custom_legend = [r\"\\textsc{Sinkhorn}\", r\"\\textsc{Prox-ROT-}$\\textrm{rk}$\"]\n",
    "plt.legend(custom_legend, ncol=1, columnspacing=0.5, handlelength=0.8, fontsize=10, loc=(0.6, 0.7))\n",
    "plt.savefig(\"plots/conv_plot_lr_sink.pdf\", bbox_inches='tight', pad_inches=0.0)"
   ]
  }
 ],
 "metadata": {
  "kernelspec": {
   "display_name": "Python 3",
   "language": "python",
   "name": "python3"
  },
  "language_info": {
   "codemirror_mode": {
    "name": "ipython",
    "version": 3
   },
   "file_extension": ".py",
   "mimetype": "text/x-python",
   "name": "python",
   "nbconvert_exporter": "python",
   "pygments_lexer": "ipython3",
   "version": "3.8.5"
  }
 },
 "nbformat": 4,
 "nbformat_minor": 5
}
