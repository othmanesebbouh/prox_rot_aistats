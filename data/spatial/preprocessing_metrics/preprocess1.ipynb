{
 "cells": [
  {
   "cell_type": "code",
   "execution_count": 1,
   "metadata": {},
   "outputs": [],
   "source": [
    "import preprocessing\n",
    "\n",
    "import scanpy as sc\n",
    "import pandas as pd\n",
    "import pathlib\n",
    "import pickle\n",
    "import warnings\n",
    "import numpy as np"
   ]
  },
  {
   "cell_type": "code",
   "execution_count": 2,
   "metadata": {},
   "outputs": [],
   "source": [
    "np.random.seed(0)\n",
    "warnings.simplefilter(action='ignore', category=pd.errors.PerformanceWarning)"
   ]
  },
  {
   "cell_type": "code",
   "execution_count": 3,
   "metadata": {},
   "outputs": [],
   "source": [
    "ROOT = pathlib.Path(\".\")"
   ]
  },
  {
   "cell_type": "code",
   "execution_count": 4,
   "metadata": {},
   "outputs": [],
   "source": [
    "adata_sa1 = sc.read(ROOT / \"adata_sa1.h5ad\")\n",
    "adata_sa3 = sc.read(ROOT / \"adata_sa3.h5ad\")"
   ]
  },
  {
   "cell_type": "code",
   "execution_count": 5,
   "metadata": {},
   "outputs": [
    {
     "data": {
      "text/plain": [
       "(AnnData object with n_obs × n_vars = 91246 × 1022\n",
       "     obs: 'X', 'Y', 'Z', 'Tissue_Symbol', 'Maintype_Symbol', 'Subtype_Symbol'\n",
       "     uns: 'Tissue_Symbol_colors'\n",
       "     obsm: 'spatial', 'spatial_full',\n",
       " AnnData object with n_obs × n_vars = 207684 × 1022\n",
       "     obs: 'X', 'Y', 'Z', 'Tissue_Symbol', 'Maintype_Symbol', 'Subtype_Symbol'\n",
       "     uns: 'Tissue_Symbol_colors'\n",
       "     obsm: 'spatial', 'spatial_full')"
      ]
     },
     "execution_count": 5,
     "metadata": {},
     "output_type": "execute_result"
    }
   ],
   "source": [
    "adata_sa1, adata_sa3"
   ]
  },
  {
   "cell_type": "code",
   "execution_count": 6,
   "metadata": {},
   "outputs": [
    {
     "name": "stdout",
     "output_type": "stream",
     "text": [
      "(91156, 1022) (207383, 1022)\n"
     ]
    }
   ],
   "source": [
    "keep_sa1_maintype = (\n",
    "    adata_sa1.obs[\"Maintype_Symbol\"]\n",
    "    .value_counts()\n",
    "    .index[adata_sa1.obs[\"Maintype_Symbol\"].value_counts() > 100]\n",
    ")\n",
    "keep_sa3_maintype = (\n",
    "    adata_sa3.obs[\"Maintype_Symbol\"]\n",
    "    .value_counts()\n",
    "    .index[adata_sa3.obs[\"Maintype_Symbol\"].value_counts() > 100]\n",
    ")\n",
    "keep_sa1_tissue = (\n",
    "    adata_sa1.obs[\"Tissue_Symbol\"]\n",
    "    .value_counts()\n",
    "    .index[adata_sa1.obs[\"Tissue_Symbol\"].value_counts() > 100]\n",
    ")\n",
    "keep_sa3_tissue = (\n",
    "    adata_sa3.obs[\"Tissue_Symbol\"]\n",
    "    .value_counts()\n",
    "    .index[adata_sa3.obs[\"Tissue_Symbol\"].value_counts() > 100]\n",
    ")\n",
    "adata_sa1 = adata_sa1[\n",
    "    adata_sa1.obs[\"Maintype_Symbol\"].isin(keep_sa1_maintype)\n",
    "    & adata_sa1.obs[\"Tissue_Symbol\"].isin(keep_sa1_tissue)\n",
    "].copy()\n",
    "adata_sa3 = adata_sa3[\n",
    "    adata_sa3.obs[\"Maintype_Symbol\"].isin(keep_sa3_maintype)\n",
    "    & adata_sa3.obs[\"Tissue_Symbol\"].isin(keep_sa3_tissue)\n",
    "].copy()\n",
    "print(adata_sa1.shape, adata_sa3.shape)"
   ]
  },
  {
   "cell_type": "code",
   "execution_count": 7,
   "metadata": {},
   "outputs": [],
   "source": [
    "for adata in [adata_sa1, adata_sa3]:\n",
    "    sc.pp.normalize_total(adata, target_sum=1e4)\n",
    "    sc.pp.log1p(adata)\n",
    "    adata.layers[\"log_normalized\"] = adata.X.copy()\n",
    "    spatial = adata.obsm[\"spatial\"]\n",
    "    adata.obsm[\"spatial\"] = (spatial - spatial.mean()) / spatial.std()"
   ]
  },
  {
   "cell_type": "code",
   "execution_count": 8,
   "metadata": {},
   "outputs": [],
   "source": [
    "sc.tl.rank_genes_groups(adata_sa1, \"Tissue_Symbol\", method=\"wilcoxon\")\n",
    "sc.tl.rank_genes_groups(adata_sa3, \"Tissue_Symbol\", method=\"wilcoxon\")"
   ]
  },
  {
   "cell_type": "code",
   "execution_count": 9,
   "metadata": {},
   "outputs": [],
   "source": [
    "trn_genes, val_genes, tst_genes = \\\n",
    "    preprocessing.get_genes(adata_sa1, adata_sa3, cluster=\"CBXgr\", val_tst=(10, 10))"
   ]
  },
  {
   "cell_type": "code",
   "execution_count": 10,
   "metadata": {},
   "outputs": [],
   "source": [
    "pd.Series(trn_genes).to_csv(ROOT / \"trn_genes.csv\")\n",
    "pd.Series(val_genes).to_csv(ROOT / \"val_genes.csv\")\n",
    "pd.Series(tst_genes).to_csv(ROOT / \"tst_genes.csv\")"
   ]
  },
  {
   "cell_type": "code",
   "execution_count": 11,
   "metadata": {},
   "outputs": [
    {
     "data": {
      "text/plain": [
       "(1002, 10, 10)"
      ]
     },
     "execution_count": 11,
     "metadata": {},
     "output_type": "execute_result"
    }
   ],
   "source": [
    "len(trn_genes), len(val_genes), len(tst_genes)"
   ]
  },
  {
   "cell_type": "code",
   "execution_count": 12,
   "metadata": {},
   "outputs": [],
   "source": [
    "adata_sa1.write(ROOT / \"adata_sa1_norm.h5ad\")\n",
    "adata_sa3.write(ROOT / \"adata_sa3_norm.h5ad\")"
   ]
  },
  {
   "cell_type": "code",
   "execution_count": 13,
   "metadata": {},
   "outputs": [],
   "source": [
    "data_1, data_2 = preprocessing.get_spatial_data(\n",
    "    ROOT / \"adata_sa1_norm.h5ad\",\n",
    "    ROOT / \"adata_sa3_norm.h5ad\",\n",
    "    trn_genes_path=ROOT / \"trn_genes.csv\",\n",
    "    val_genes_path=ROOT / \"val_genes.csv\",\n",
    "    tst_genes_path=ROOT / \"tst_genes.csv\"\n",
    ")"
   ]
  },
  {
   "cell_type": "code",
   "execution_count": 14,
   "metadata": {},
   "outputs": [],
   "source": [
    "key = 'Maintype_Symbol'\n",
    "gt_celltypes = adata_sa1.obs[key]\n",
    "celltypes_to_pull = adata_sa3.obs[key]"
   ]
  },
  {
   "cell_type": "code",
   "execution_count": 15,
   "metadata": {},
   "outputs": [],
   "source": [
    "assert data_1[0].shape[0] == gt_celltypes.shape[0]\n",
    "assert data_2[0].shape[0] == celltypes_to_pull.shape[0]"
   ]
  },
  {
   "cell_type": "code",
   "execution_count": 16,
   "metadata": {},
   "outputs": [],
   "source": [
    "with open(ROOT / \"data.pkl\", \"wb\") as fout:\n",
    "    pickle.dump((data_1, data_2, gt_celltypes, celltypes_to_pull), fout)"
   ]
  }
 ],
 "metadata": {
  "kernelspec": {
   "display_name": "Python 3",
   "language": "python",
   "name": "python3"
  },
  "language_info": {
   "codemirror_mode": {
    "name": "ipython",
    "version": 3
   },
   "file_extension": ".py",
   "mimetype": "text/x-python",
   "name": "python",
   "nbconvert_exporter": "python",
   "pygments_lexer": "ipython3",
   "version": "3.8.5"
  }
 },
 "nbformat": 4,
 "nbformat_minor": 5
}
