{
 "cells": [
  {
   "cell_type": "code",
   "execution_count": null,
   "id": "b77f552b",
   "metadata": {},
   "outputs": [],
   "source": [
    "import preprocessing\n",
    "\n",
    "import numpy as np\n",
    "from nilearn import surface, datasets\n",
    "import networkx as nx\n",
    "from fugw.scripts import lmds\n",
    "import pickle"
   ]
  },
  {
   "cell_type": "code",
   "execution_count": null,
   "id": "a76affa3",
   "metadata": {},
   "outputs": [],
   "source": [
    "generate_embedding = True\n",
    "k = 30\n",
    "n_landmarks = 2048"
   ]
  },
  {
   "cell_type": "code",
   "execution_count": null,
   "id": "8a48d9ad",
   "metadata": {},
   "outputs": [],
   "source": [
    "if generate_embedding:  # this might take long\n",
    "    fsaverage = datasets.fetch_surf_fsaverage(mesh='fsaverage')\n",
    "    coordinates, triangles = surface.load_surf_mesh(fsaverage.pial_left)\n",
    "    \n",
    "    G = nx.Graph()\n",
    "    for (i, j, k) in triangles:\n",
    "        G.add_edge(i, j, weight=np.linalg.norm(coordinates[i] - coordinates[j]))\n",
    "        G.add_edge(j, k, weight=np.linalg.norm(coordinates[j] - coordinates[k]))\n",
    "        G.add_edge(i, k, weight=np.linalg.norm(coordinates[i] - coordinates[k]))\n",
    "    graph = nx.to_scipy_sparse_array(G, weight='weight', format='csr')\n",
    "    \n",
    "    geom_lmds = lmds.compute_lmds(\n",
    "      coordinates,\n",
    "      triangles,\n",
    "      n_landmarks=n_landmarks,\n",
    "      k=k,\n",
    "      n_jobs=32,\n",
    "      verbose=True,\n",
    "    ).cpu().numpy()\n",
    "    \n",
    "    with open(f\"lmds_{k}_{n_landmarks}.pkl\", \"wb\") as fout:\n",
    "        pickle.dump((geom_lmds, geom_lmds), fout)"
   ]
  },
  {
   "cell_type": "code",
   "execution_count": null,
   "id": "78c4167e",
   "metadata": {},
   "outputs": [],
   "source": [
    "data_1, data_2, (coor, tri), _meta = \\\n",
    "    preprocessing.get_brain_data(None, embedding_path=f\"lmds_{k}_{n_landmarks}.pkl\")"
   ]
  }
 ],
 "metadata": {
  "kernelspec": {
   "display_name": "ulot",
   "language": "python",
   "name": "ulot"
  },
  "language_info": {
   "codemirror_mode": {
    "name": "ipython",
    "version": 3
   },
   "file_extension": ".py",
   "mimetype": "text/x-python",
   "name": "python",
   "nbconvert_exporter": "python",
   "pygments_lexer": "ipython3",
   "version": "3.10.10"
  }
 },
 "nbformat": 4,
 "nbformat_minor": 5
}
