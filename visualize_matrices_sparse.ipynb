{
 "cells": [
  {
   "cell_type": "markdown",
   "metadata": {},
   "source": [
    "Two figures for scGM, one figure for scRNA."
   ]
  },
  {
   "cell_type": "code",
   "execution_count": 1,
   "metadata": {},
   "outputs": [],
   "source": [
    "%load_ext autoreload\n",
    "%autoreload 2"
   ]
  },
  {
   "cell_type": "code",
   "execution_count": 2,
   "metadata": {},
   "outputs": [],
   "source": [
    "import jax\n",
    "import imageio\n",
    "import jax.numpy as jnp\n",
    "from matplotlib import pyplot as plt\n",
    "import struct\n",
    "import pickle\n",
    "import numpy as np"
   ]
  },
  {
   "cell_type": "code",
   "execution_count": 3,
   "metadata": {},
   "outputs": [
    {
     "name": "stderr",
     "output_type": "stream",
     "text": [
      "/Users/othmanesebbouh/opt/anaconda3/lib/python3.8/site-packages/pandas/core/computation/expressions.py:20: UserWarning: Pandas requires version '2.7.3' or newer of 'numexpr' (version '2.7.1' currently installed).\n",
      "  from pandas.core.computation.check import NUMEXPR_INSTALLED\n"
     ]
    }
   ],
   "source": [
    "from tensorflow.python.summary.summary_iterator import summary_iterator"
   ]
  },
  {
   "cell_type": "markdown",
   "metadata": {},
   "source": [
    "# Matrix visualization for scGM"
   ]
  },
  {
   "cell_type": "code",
   "execution_count": 4,
   "metadata": {},
   "outputs": [],
   "source": [
    "src_dir = \"pre_computed_runs/scGM/\"\n",
    "runs = [\"scGM_l1_reg_0/\",\n",
    "        \"scGM_l12_reg_7.5/\",\n",
    "        \"scGM_l1_reg_1.5/\",\n",
    "        \"scGM_run_l1_reg_2/\"\n",
    "       ]\n",
    "\n",
    "Ms = []\n",
    "for run in runs:\n",
    "    M_loc = src_dir + run + \"params/M/M_100.pkl\"\n",
    "    with open(M_loc, 'rb') as f:\n",
    "        M = pickle.load(f)\n",
    "    Ms.append(M)"
   ]
  },
  {
   "cell_type": "code",
   "execution_count": 5,
   "metadata": {},
   "outputs": [
    {
     "data": {
      "image/png": "[encoded data removed]",
      "text/plain": [
       "<Figure size 504x360 with 5 Axes>"
      ]
     },
     "metadata": {
      "needs_background": "light"
     },
     "output_type": "display_data"
    }
   ],
   "source": [
    "#fig, axes = plt.subplots(nrows=2, ncols=2)\n",
    "fig, ax = plt.subplots(nrows=2, ncols=2, figsize=(7, 5))\n",
    "ax[0, 0].matshow(np.abs(Ms[0]), cmap=\"Reds\")\n",
    "ax[0, 0].tick_params(left = False, right = False , labelleft = False , \n",
    "                labelbottom = False, bottom = False, top=False, labeltop=False)\n",
    "ax[0, 1].matshow(np.abs(Ms[1]), cmap=\"Reds\")\n",
    "ax[0, 1].tick_params(left = False, right = False , labelleft = False , \n",
    "                labelbottom = False, bottom = False, top=False, labeltop=False)\n",
    "\n",
    "ax[1, 0].matshow(np.abs(Ms[2]), cmap=\"Reds\")\n",
    "ax[1, 0].tick_params(left = False, right = False , labelleft = False , \n",
    "                labelbottom = False, bottom = False, top=False, labeltop=False)\n",
    "\n",
    "ax[1, 1].matshow(np.abs(Ms[3]), cmap=\"Reds\")\n",
    "im = ax[1, 1].tick_params(left = False, right = False , labelleft = False , \n",
    "                labelbottom = False, bottom = False, top=False, labeltop=False)\n",
    "\n",
    "cax = fig.add_axes([ax[1,1].get_position().x1,#-0.25, \n",
    "                    ax[1,1].get_position().y0,\n",
    "                    0.02,\n",
    "                    ax[0, 1].get_position().y1-ax[1, 1].get_position().y0])\n",
    "fig.subplots_adjust(wspace=-0.2, hspace=0.1)\n",
    "fig.colorbar(im, cax=cax, cmap=\"Reds\")\n",
    "\n",
    "plt.savefig(\"plots/matrices.pdf\", \n",
    "            bbox_inches='tight', pad_inches=0.02, dpi=200, facecolor='white')"
   ]
  },
  {
   "cell_type": "markdown",
   "metadata": {},
   "source": [
    "# Get proportion of zeros"
   ]
  },
  {
   "cell_type": "code",
   "execution_count": 6,
   "metadata": {},
   "outputs": [
    {
     "name": "stdout",
     "output_type": "stream",
     "text": [
      "WARNING:tensorflow:From /Users/othmanesebbouh/opt/anaconda3/lib/python3.8/site-packages/tensorflow/python/summary/summary_iterator.py:27: tf_record_iterator (from tensorflow.python.lib.io.tf_record) is deprecated and will be removed in a future version.\n",
      "Instructions for updating:\n",
      "Use eager execution and: \n",
      "`tf.data.TFRecordDataset(path)`\n"
     ]
    }
   ],
   "source": [
    "src_dir = \"pre_computed_runs/scGM/\"\n",
    "runs = [\"scGM_l1_reg_0/events.out.tfevents.1696426560.scGM_l1_reg_0\",\n",
    "        \"scGM_l12_reg_7.5/events.out.tfevents.1696428467.scGM_l12_reg_7.5\",\n",
    "        \"scGM_l1_reg_1.5/events.out.tfevents.1696429748.scGM_l1_reg_1.5\",\n",
    "        \"scGM_run_l1_reg_2/events.out.tfevents.1696430094.scGM_run_l1_reg_2\"\n",
    "       ]\n",
    "pzs = []\n",
    "for run in runs:\n",
    "    for e in summary_iterator(src_dir + run):    \n",
    "        for v in e.summary.value:\n",
    "            if v.tag == 'nz':\n",
    "                pz = v.simple_value\n",
    "    pzs.append(pz)"
   ]
  },
  {
   "cell_type": "code",
   "execution_count": 7,
   "metadata": {},
   "outputs": [
    {
     "name": "stdout",
     "output_type": "stream",
     "text": [
      "5.882352828979492\n",
      "67.64705657958984\n",
      "71.35076904296875\n",
      "84.20479583740234\n"
     ]
    }
   ],
   "source": [
    "for pz in pzs:\n",
    "    print(pz)"
   ]
  }
 ],
 "metadata": {
  "kernelspec": {
   "display_name": "Python 3",
   "language": "python",
   "name": "python3"
  },
  "language_info": {
   "codemirror_mode": {
    "name": "ipython",
    "version": 3
   },
   "file_extension": ".py",
   "mimetype": "text/x-python",
   "name": "python",
   "nbconvert_exporter": "python",
   "pygments_lexer": "ipython3",
   "version": "3.8.5"
  }
 },
 "nbformat": 4,
 "nbformat_minor": 4
}
